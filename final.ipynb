{
 "cells": [
  {
   "cell_type": "code",
   "execution_count": 4,
   "metadata": {},
   "outputs": [],
   "source": [
    "import lucem_illud_2020 #pip install -U git+git://github.com/Computational-Content-Analysis-2020/lucem_illud_2020.git\n",
    "\n",
    "#All these packages need to be installed from pip\n",
    "#These are all for the cluster detection\n",
    "import sklearn\n",
    "import sklearn.feature_extraction.text\n",
    "import sklearn.pipeline\n",
    "import sklearn.preprocessing\n",
    "import sklearn.datasets\n",
    "import sklearn.cluster\n",
    "import sklearn.decomposition\n",
    "import sklearn.metrics\n",
    "\n",
    "import scipy #For hierarchical clustering and some visuals\n",
    "#import scipy.cluster.hierarchy\n",
    "import gensim#For topic modeling\n",
    "import requests #For downloading our datasets\n",
    "import numpy as np #for arrays\n",
    "import pandas #gives us DataFrames\n",
    "import matplotlib.pyplot as plt #For graphics\n",
    "import matplotlib.cm #Still for graphics\n",
    "import seaborn as sns #Makes the graphics look nicer\n",
    "\n",
    "#This 'magic' command makes the plots work better\n",
    "#in the notebook, don't use it outside of a notebook.\n",
    "#Also you can ignore the warning, it\n",
    "%matplotlib inline\n",
    "\n",
    "import itertools\n",
    "import json\n",
    "\n",
    "import requests #for http requests\n",
    "import bs4 #called `beautifulsoup4`, an html parser\n",
    "import pandas #gives us DataFrames\n",
    "import docx #reading MS doc files, install as `python-docx`\n",
    "\n",
    "#Stuff for pdfs\n",
    "#Install as `pdfminer2`\n",
    "import pdfminer.pdfinterp\n",
    "import pdfminer.converter\n",
    "import pdfminer.layout\n",
    "import pdfminer.pdfpage\n",
    "\n",
    "#These come with Python\n",
    "import re #for regexs\n",
    "import urllib.parse #For joining urls\n",
    "import io #for making http requests look like files\n",
    "import json #For Tumblr API responses\n",
    "import os.path #For checking if files exist\n",
    "import os #For making directories"
   ]
  },
  {
   "cell_type": "code",
   "execution_count": 64,
   "metadata": {},
   "outputs": [],
   "source": [
    "##Scraping for data\n",
    "wikipedia_pedagogy = 'https://en.wikipedia.org/wiki/Pedagogy'\n",
    "requests.get(wikipedia_pedagogy)\n",
    "wikiContentRequest = requests.get(wikipedia_pedagogy)\n",
    "wikiContentSoup = bs4.BeautifulSoup(wikiContentRequest.text, 'html.parser')\n",
    "\n",
    "#Tag by paragraph because I want to compare between content from different wiki websites\n",
    "contentPTags = wikiContentSoup.body.findAll('p')\n",
    "contentParagraphs = []\n",
    "for pTag in contentPTags:\n",
    "    contentParagraphs.append(re.sub(r'\\[\\d+\\]', '', pTag.text))\n",
    "pdgDF = pandas.DataFrame({'paragraph-text' : contentParagraphs})\n",
    "\n",
    "wikipedia_base_url = 'https://en.wikipedia.org'\n",
    "otherPAgeURLS = []\n",
    "#We also want to know where the links come from so we also will get:\n",
    "#the paragraph number\n",
    "#the word the link is in\n",
    "for paragraphNum, pTag in enumerate(contentPTags):\n",
    "    #we only want hrefs that link to wiki pages\n",
    "    tagLinks = pTag.findAll('a', href=re.compile('/wiki/'), class_=False)\n",
    "    for aTag in tagLinks:\n",
    "        #We need to extract the url from the <a> tag\n",
    "        relurl = aTag.get('href')\n",
    "        linkText = aTag.text\n",
    "        #wikipedia_base_url is the base we can use the urllib joining function to merge them\n",
    "        #Giving a nice structured tupe like this means we can use tuple expansion later\n",
    "        otherPAgeURLS.append((\n",
    "            urllib.parse.urljoin(wikipedia_base_url, relurl),\n",
    "            paragraphNum,\n",
    "            linkText,\n",
    "        ))\n",
    "        \n",
    "pdgDF['source'] = [wikipedia_pedagogy] * len(pdgDF['paragraph-text']) #contentParagraphs=pdg\n",
    "pdgDF['paragraph-number'] = range(len(pdgDF['paragraph-text']))\n",
    "\n",
    "pdgDF\n",
    "\n",
    "pdgDF['source-paragraph-number'] = [None] * len(pdgDF['paragraph-text'])\n",
    "pdgDF['source-paragraph-text'] = [None] * len(pdgDF['paragraph-text'])\n",
    "\n",
    "def getTextFromWikiPage(targetURL, sourceParNum, sourceText):\n",
    "    #Make a dict to store data before adding it to the DataFrame\n",
    "    parsDict = {'source' : [], 'paragraph-number' : [], 'paragraph-text' : [], 'source-paragraph-number' : [],  'source-paragraph-text' : []}\n",
    "    #Now we get the page\n",
    "    r = requests.get(targetURL)\n",
    "    soup = bs4.BeautifulSoup(r.text, 'html.parser')\n",
    "    #enumerating gives use the paragraph number\n",
    "    for parNum, pTag in enumerate(soup.body.findAll('p')):\n",
    "        #same regex as before\n",
    "        parsDict['paragraph-text'].append(re.sub(r'\\[\\d+\\]', '', pTag.text))\n",
    "        parsDict['paragraph-number'].append(parNum)\n",
    "        parsDict['source'].append(targetURL)\n",
    "        parsDict['source-paragraph-number'].append(sourceParNum)\n",
    "        parsDict['source-paragraph-text'].append(sourceText)\n",
    "    return pandas.DataFrame(parsDict)\n",
    "\n",
    "for urlTuple in otherPAgeURLS[:3]:\n",
    "    #ignore_index means the indices will not be reset after each append\n",
    "    pdgDF = pdgDF.append(getTextFromWikiPage(*urlTuple),ignore_index=True)"
   ]
  },
  {
   "cell_type": "code",
   "execution_count": 65,
   "metadata": {},
   "outputs": [],
   "source": [
    "pdgDF['tokenized_text'] = pdgDF['paragraph-text'].apply(lambda x: lucem_illud_2020.word_tokenize(x))\n",
    "pdgDF['normalized_tokens'] = pdgDF['tokenized_text'].apply(lambda x: lucem_illud_2020.normalizeTokens(x))"
   ]
  },
  {
   "cell_type": "code",
   "execution_count": 66,
   "metadata": {},
   "outputs": [
    {
     "data": {
      "text/html": [
       "<div>\n",
       "<style scoped>\n",
       "    .dataframe tbody tr th:only-of-type {\n",
       "        vertical-align: middle;\n",
       "    }\n",
       "\n",
       "    .dataframe tbody tr th {\n",
       "        vertical-align: top;\n",
       "    }\n",
       "\n",
       "    .dataframe thead th {\n",
       "        text-align: right;\n",
       "    }\n",
       "</style>\n",
       "<table border=\"1\" class=\"dataframe\">\n",
       "  <thead>\n",
       "    <tr style=\"text-align: right;\">\n",
       "      <th></th>\n",
       "      <th>paragraph-number</th>\n",
       "      <th>paragraph-text</th>\n",
       "      <th>source</th>\n",
       "      <th>source-paragraph-number</th>\n",
       "      <th>source-paragraph-text</th>\n",
       "      <th>tokenized_text</th>\n",
       "      <th>normalized_tokens</th>\n",
       "    </tr>\n",
       "  </thead>\n",
       "  <tbody>\n",
       "    <tr>\n",
       "      <td>0</td>\n",
       "      <td>0</td>\n",
       "      <td>\\n</td>\n",
       "      <td>https://en.wikipedia.org/wiki/Pedagogy</td>\n",
       "      <td>None</td>\n",
       "      <td>None</td>\n",
       "      <td>[]</td>\n",
       "      <td>[]</td>\n",
       "    </tr>\n",
       "    <tr>\n",
       "      <td>1</td>\n",
       "      <td>1</td>\n",
       "      <td>Pedagogy (/ˈpɛdəɡɒdʒi, -ɡoʊdʒi, -ɡɒɡi/), most ...</td>\n",
       "      <td>https://en.wikipedia.org/wiki/Pedagogy</td>\n",
       "      <td>None</td>\n",
       "      <td>None</td>\n",
       "      <td>[Pedagogy, /ˈpɛdəɡɒdʒi, -ɡoʊdʒi, -ɡɒɡi/, most,...</td>\n",
       "      <td>[pedagogy, /ˈpɛdəɡɒdʒi, -ɡoʊdʒi, -ɡɒɡi/, commo...</td>\n",
       "    </tr>\n",
       "    <tr>\n",
       "      <td>2</td>\n",
       "      <td>2</td>\n",
       "      <td>Pedagogy is often described as the act of teac...</td>\n",
       "      <td>https://en.wikipedia.org/wiki/Pedagogy</td>\n",
       "      <td>None</td>\n",
       "      <td>None</td>\n",
       "      <td>[Pedagogy, is, often, described, as, the, act,...</td>\n",
       "      <td>[pedagogy, describe, act, teach, pedagogy, ado...</td>\n",
       "    </tr>\n",
       "    <tr>\n",
       "      <td>3</td>\n",
       "      <td>3</td>\n",
       "      <td>Instructive strategies are governed by the pup...</td>\n",
       "      <td>https://en.wikipedia.org/wiki/Pedagogy</td>\n",
       "      <td>None</td>\n",
       "      <td>None</td>\n",
       "      <td>[Instructive, strategies, are, governed, by, t...</td>\n",
       "      <td>[instructive, strategy, govern, pupil, backgro...</td>\n",
       "    </tr>\n",
       "    <tr>\n",
       "      <td>4</td>\n",
       "      <td>4</td>\n",
       "      <td>The teaching of adults, as a specific group, i...</td>\n",
       "      <td>https://en.wikipedia.org/wiki/Pedagogy</td>\n",
       "      <td>None</td>\n",
       "      <td>None</td>\n",
       "      <td>[The, teaching, of, adults, as, a, specific, g...</td>\n",
       "      <td>[teach, adult, specific, group, refer, andragogy]</td>\n",
       "    </tr>\n",
       "  </tbody>\n",
       "</table>\n",
       "</div>"
      ],
      "text/plain": [
       "   paragraph-number                                     paragraph-text  \\\n",
       "0                 0                                                 \\n   \n",
       "1                 1  Pedagogy (/ˈpɛdəɡɒdʒi, -ɡoʊdʒi, -ɡɒɡi/), most ...   \n",
       "2                 2  Pedagogy is often described as the act of teac...   \n",
       "3                 3  Instructive strategies are governed by the pup...   \n",
       "4                 4  The teaching of adults, as a specific group, i...   \n",
       "\n",
       "                                   source source-paragraph-number  \\\n",
       "0  https://en.wikipedia.org/wiki/Pedagogy                    None   \n",
       "1  https://en.wikipedia.org/wiki/Pedagogy                    None   \n",
       "2  https://en.wikipedia.org/wiki/Pedagogy                    None   \n",
       "3  https://en.wikipedia.org/wiki/Pedagogy                    None   \n",
       "4  https://en.wikipedia.org/wiki/Pedagogy                    None   \n",
       "\n",
       "  source-paragraph-text                                     tokenized_text  \\\n",
       "0                  None                                                 []   \n",
       "1                  None  [Pedagogy, /ˈpɛdəɡɒdʒi, -ɡoʊdʒi, -ɡɒɡi/, most,...   \n",
       "2                  None  [Pedagogy, is, often, described, as, the, act,...   \n",
       "3                  None  [Instructive, strategies, are, governed, by, t...   \n",
       "4                  None  [The, teaching, of, adults, as, a, specific, g...   \n",
       "\n",
       "                                   normalized_tokens  \n",
       "0                                                 []  \n",
       "1  [pedagogy, /ˈpɛdəɡɒdʒi, -ɡoʊdʒi, -ɡɒɡi/, commo...  \n",
       "2  [pedagogy, describe, act, teach, pedagogy, ado...  \n",
       "3  [instructive, strategy, govern, pupil, backgro...  \n",
       "4  [teach, adult, specific, group, refer, andragogy]  "
      ]
     },
     "execution_count": 66,
     "metadata": {},
     "output_type": "execute_result"
    }
   ],
   "source": [
    "pdgDF[:5]"
   ]
  },
  {
   "cell_type": "code",
   "execution_count": 67,
   "metadata": {},
   "outputs": [
    {
     "name": "stdout",
     "output_type": "stream",
     "text": [
      "The available words are: ['pedagogy', 'commonly', 'approach', 'teaching', 'refers', 'theory', 'practice', 'process', 'influences', 'influenced'] ...\n"
     ]
    }
   ],
   "source": [
    "#initialize\n",
    "pdgTFVectorizer = sklearn.feature_extraction.text.TfidfVectorizer(max_df=0.5, max_features=1000, min_df=3, stop_words='english', norm='l2')\n",
    "#train\n",
    "pdgTFVects = pdgTFVectorizer.fit_transform(pdgDF['paragraph-text'])\n",
    "\n",
    "try:\n",
    "    print(pdgTFVectorizer.vocabulary_['vector'])\n",
    "except KeyError:\n",
    "    print('The available words are: {} ...'.format(list(pdgTFVectorizer.vocabulary_.keys())[:10]))"
   ]
  },
  {
   "cell_type": "code",
   "execution_count": 68,
   "metadata": {},
   "outputs": [
    {
     "data": {
      "text/plain": [
       "4"
      ]
     },
     "execution_count": 68,
     "metadata": {},
     "output_type": "execute_result"
    }
   ],
   "source": [
    "numClusters = len(set(pdgDF['source']))\n",
    "numClusters\n",
    "#Four clusters"
   ]
  },
  {
   "cell_type": "code",
   "execution_count": 69,
   "metadata": {},
   "outputs": [
    {
     "data": {
      "text/plain": [
       "KMeans(algorithm='auto', copy_x=True, init='k-means++', max_iter=300,\n",
       "       n_clusters=4, n_init=10, n_jobs=None, precompute_distances='auto',\n",
       "       random_state=None, tol=0.0001, verbose=0)"
      ]
     },
     "execution_count": 69,
     "metadata": {},
     "output_type": "execute_result"
    }
   ],
   "source": [
    "km = sklearn.cluster.KMeans(n_clusters=numClusters, init='k-means++')\n",
    "km.fit(pdgTFVects)"
   ]
  },
  {
   "cell_type": "code",
   "execution_count": 70,
   "metadata": {},
   "outputs": [
    {
     "name": "stdout",
     "output_type": "stream",
     "text": [
      "Top terms per cluster:\n",
      "Cluster 0:\n",
      " play\n",
      " pronunciation\n",
      " ipa\n",
      " words\n",
      " symbols\n",
      " english\n",
      " different\n",
      " local\n",
      " stimulus\n",
      " dialogue\n",
      "\n",
      "\n",
      "Cluster 1:\n",
      " education\n",
      " pedagogy\n",
      " pedagogues\n",
      " ce\n",
      " social\n",
      " used\n",
      " educational\n",
      " teaching\n",
      " academic\n",
      " online\n",
      "\n",
      "\n",
      "Cluster 2:\n",
      " students\n",
      " student\n",
      " knowledge\n",
      " transfer\n",
      " teacher\n",
      " problem\n",
      " child\n",
      " use\n",
      " teaching\n",
      " instruction\n",
      "\n",
      "\n",
      "Cluster 3:\n",
      " theory\n",
      " behavior\n",
      " information\n",
      " knowledge\n",
      " conditioning\n",
      " memory\n",
      " learn\n",
      " learner\n",
      " cognitive\n",
      " process\n",
      "\n",
      "\n"
     ]
    }
   ],
   "source": [
    "#Top terms from each cluster\n",
    "terms = pdgTFVectorizer.get_feature_names()\n",
    "print(\"Top terms per cluster:\")\n",
    "order_centroids = km.cluster_centers_.argsort()[:, ::-1]\n",
    "for i in range(numClusters):\n",
    "    print(\"Cluster %d:\" % i)\n",
    "    for ind in order_centroids[i, :10]:\n",
    "        print(' %s' % terms[ind])\n",
    "    print('\\n')\n",
    "    \n",
    "#four clusters with different features.\n",
    "#Notably, cluster 3 consists of dense elements that are highly relevant to schooling and teaching\n",
    "#Cluster 0 is also interesting that it is a cluster of crucial elements in learning and teaching"
   ]
  },
  {
   "cell_type": "code",
   "execution_count": 71,
   "metadata": {},
   "outputs": [],
   "source": [
    "#PCA\n",
    "PCA = sklearn.decomposition.PCA\n",
    "pca = PCA(n_components = 2).fit(pdgTFVects.toarray())\n",
    "reduced_data = pca.transform(pdgTFVects.toarray())"
   ]
  },
  {
   "cell_type": "code",
   "execution_count": 72,
   "metadata": {},
   "outputs": [],
   "source": [
    "colordict = {\n",
    "'https://en.wikipedia.org/wiki/Pedagogy': 'red',\n",
    "'https://en.wikipedia.org/wiki/Learning': 'blue',\n",
    "'https://en.wikipedia.org/wiki/Learning_theory_(education)': 'black',\n",
    "'https://en.wikipedia.org/wiki/Learning_theory_...': 'blue',\n",
    "'https://en.wikipedia.org/wiki/Help:IPA/English': 'yellow',\n",
    "    }\n",
    "colors = [colordict[c] for c in pdgDF['source']]"
   ]
  },
  {
   "cell_type": "code",
   "execution_count": 73,
   "metadata": {},
   "outputs": [
    {
     "data": {
      "image/png": "[encoded data removed]",
      "text/plain": [
       "<Figure size 720x432 with 1 Axes>"
      ]
     },
     "metadata": {},
     "output_type": "display_data"
    }
   ],
   "source": [
    "fig = plt.figure(figsize = (10,6))\n",
    "ax = fig.add_subplot(111)\n",
    "ax.set_frame_on(False)\n",
    "ax.scatter(reduced_data[:, 0], reduced_data[:, 1], color = colors, alpha = 0.5, label = colors)\n",
    "plt.xticks(())\n",
    "plt.yticks(())\n",
    "plt.title('True sources')\n",
    "plt.show()\n",
    "\n",
    "#Even though there are four clusters detected, there are two more "
   ]
  },
  {
   "cell_type": "code",
   "execution_count": 74,
   "metadata": {},
   "outputs": [],
   "source": [
    "#Define functions for cilhouette\n",
    "def plotSilhouette(n_clusters, X):\n",
    "    fig, (ax1, ax2) = plt.subplots(ncols=2, figsize = (15,5))\n",
    "    \n",
    "    ax1.set_xlim([-0.1, 1])\n",
    "    ax1.set_ylim([0, len(X) + (n_clusters + 1) * 10])\n",
    "    clusterer = sklearn.cluster.KMeans(n_clusters=n_clusters, random_state=10)\n",
    "    cluster_labels = clusterer.fit_predict(X)\n",
    "    \n",
    "    silhouette_avg = sklearn.metrics.silhouette_score(X, cluster_labels)\n",
    "\n",
    "    # Compute the silhouette scores for each sample\n",
    "    sample_silhouette_values = sklearn.metrics.silhouette_samples(X, cluster_labels)\n",
    "\n",
    "    y_lower = 10\n",
    "    \n",
    "    for i in range(n_clusters):\n",
    "        ith_cluster_silhouette_values = sample_silhouette_values[cluster_labels == i]\n",
    "\n",
    "        ith_cluster_silhouette_values.sort()\n",
    "\n",
    "        size_cluster_i = ith_cluster_silhouette_values.shape[0]\n",
    "        y_upper = y_lower + size_cluster_i\n",
    "        cmap = matplotlib.cm.get_cmap(\"nipy_spectral\")\n",
    "        color = cmap(float(i) / n_clusters)\n",
    "        ax1.fill_betweenx(np.arange(y_lower, y_upper),\n",
    "                          0, ith_cluster_silhouette_values,\n",
    "                          facecolor=color, edgecolor=color, alpha=0.7)\n",
    "\n",
    "        ax1.text(-0.05, y_lower + 0.5 * size_cluster_i, str(i))\n",
    "\n",
    "        y_lower = y_upper + 10\n",
    "    \n",
    "    ax1.set_title(\"The silhouette plot for the various clusters.\")\n",
    "    ax1.set_xlabel(\"The silhouette coefficient values\")\n",
    "    ax1.set_ylabel(\"Cluster label\")\n",
    "\n",
    "    ax1.axvline(x=silhouette_avg, color=\"red\", linestyle=\"--\")\n",
    "\n",
    "    ax1.set_yticks([])  # Clear the yaxis labels / ticks\n",
    "    ax1.set_xticks([-0.1, 0, 0.2, 0.4, 0.6, 0.8, 1])\n",
    "\n",
    "    # 2nd Plot showing the actual clusters formed\n",
    "    cmap = matplotlib.cm.get_cmap(\"nipy_spectral\")\n",
    "    colors = cmap(float(i) / n_clusters)\n",
    "    ax2.scatter(reduced_data[:, 0], reduced_data[:, 1], marker='.', s=30, lw=0, alpha=0.7,\n",
    "                c=colors)\n",
    "\n",
    "    # Labeling the clusters\n",
    "    centers = clusterer.cluster_centers_\n",
    "    projected_centers = pca.transform(centers)\n",
    "    # Draw white circles at cluster centers\n",
    "    ax2.scatter(projected_centers[:, 0], projected_centers[:, 1],\n",
    "                marker='o', c=\"white\", alpha=1, s=200)\n",
    "\n",
    "    for i, c in enumerate(projected_centers):\n",
    "        ax2.scatter(c[0], c[1], marker='$%d$' % i, alpha=1, s=50)\n",
    "\n",
    "    ax2.set_title(\"The visualization of the clustered data.\")\n",
    "    ax2.set_xlabel(\"PC 1\")\n",
    "    ax2.set_ylabel(\"PC 2\")\n",
    "\n",
    "    plt.suptitle((\"Silhouette analysis for KMeans clustering on sample data \"\n",
    "                  \"with n_clusters = %d\" % n_clusters),\n",
    "                 fontsize=14, fontweight='bold')\n",
    "    plt.show()\n",
    "    print(\"For n_clusters = {}, The average silhouette_score is : {:.3f}\".format(n_clusters, silhouette_avg))"
   ]
  },
  {
   "cell_type": "code",
   "execution_count": 75,
   "metadata": {},
   "outputs": [
    {
     "name": "stderr",
     "output_type": "stream",
     "text": [
      "'c' argument looks like a single numeric RGB or RGBA sequence, which should be avoided as value-mapping will have precedence in case its length matches with 'x' & 'y'.  Please use a 2-D array with a single row if you really want to specify the same RGB or RGBA value for all points.\n"
     ]
    },
    {
     "data": {
      "image/png": "[encoded data removed]",
      "text/plain": [
       "<Figure size 1080x360 with 2 Axes>"
      ]
     },
     "metadata": {
      "needs_background": "light"
     },
     "output_type": "display_data"
    },
    {
     "name": "stdout",
     "output_type": "stream",
     "text": [
      "For n_clusters = 2, The average silhouette_score is : 0.012\n"
     ]
    }
   ],
   "source": [
    "#with 3 clusters\n",
    "X = pdgTFVects.toarray()\n",
    "plotSilhouette(2, X)"
   ]
  },
  {
   "cell_type": "code",
   "execution_count": 76,
   "metadata": {},
   "outputs": [
    {
     "name": "stderr",
     "output_type": "stream",
     "text": [
      "'c' argument looks like a single numeric RGB or RGBA sequence, which should be avoided as value-mapping will have precedence in case its length matches with 'x' & 'y'.  Please use a 2-D array with a single row if you really want to specify the same RGB or RGBA value for all points.\n"
     ]
    },
    {
     "data": {
      "image/png": "[encoded data removed]",
      "text/plain": [
       "<Figure size 1080x360 with 2 Axes>"
      ]
     },
     "metadata": {
      "needs_background": "light"
     },
     "output_type": "display_data"
    },
    {
     "name": "stdout",
     "output_type": "stream",
     "text": [
      "For n_clusters = 4, The average silhouette_score is : 0.018\n"
     ]
    }
   ],
   "source": [
    "#with 4 clusters\n",
    "X = pdgTFVects.toarray()\n",
    "plotSilhouette(4, X)"
   ]
  },
  {
   "cell_type": "code",
   "execution_count": 77,
   "metadata": {},
   "outputs": [],
   "source": [
    "#I tried 2 clusters, 3 clusters and 4 clusters\n",
    "#Turned out that the silhouette-score shows that 4-cluster is the best. "
   ]
  },
  {
   "cell_type": "markdown",
   "metadata": {},
   "source": [
    "## <span style=\"color:red\">*Exercise 2*</span>\n",
    "\n",
    "<span style=\"color:red\">Construct cells immediately below this that hierarchically cluster your documents using two approaches, and visualize them with a tree. Interrogate the recursive cluster contents in terms of both documents and closenesses. What does this nested cluster structure reveal about the organization of documents in your sampled corpora? Moreover, if they do worse than kmeans (as above), why do you think this is the case (hint: using metrics if you have ground truth or silhouette if you do not)? \n",
    "\n",
    "<span style=\"color:red\">***Stretch***: Attempt using different distances into your clustering algorithms. (How) do they change the arrangement of clusters?"
   ]
  },
  {
   "cell_type": "code",
   "execution_count": 79,
   "metadata": {},
   "outputs": [
    {
     "data": {
      "text/plain": [
       "<163x516 sparse matrix of type '<class 'numpy.float64'>'\n",
       "\twith 2915 stored elements in Compressed Sparse Row format>"
      ]
     },
     "execution_count": 79,
     "metadata": {},
     "output_type": "execute_result"
    }
   ],
   "source": [
    "pdgTFVects"
   ]
  },
  {
   "cell_type": "code",
   "execution_count": 80,
   "metadata": {},
   "outputs": [
    {
     "data": {
      "text/plain": [
       "matrix([[0.        , 0.        , 0.        , ..., 0.        , 0.        ,\n",
       "         0.        ],\n",
       "        [0.        , 0.        , 0.        , ..., 0.        , 0.        ,\n",
       "         0.        ],\n",
       "        [0.        , 0.        , 0.        , ..., 0.        , 0.        ,\n",
       "         0.        ],\n",
       "        ...,\n",
       "        [0.        , 0.        , 0.        , ..., 0.        , 0.        ,\n",
       "         0.        ],\n",
       "        [0.10765161, 0.        , 0.        , ..., 0.        , 0.        ,\n",
       "         0.        ],\n",
       "        [0.        , 0.        , 0.        , ..., 0.        , 0.        ,\n",
       "         0.        ]])"
      ]
     },
     "execution_count": 80,
     "metadata": {},
     "output_type": "execute_result"
    }
   ],
   "source": [
    "pdgTFVects[:100].todense()"
   ]
  },
  {
   "cell_type": "code",
   "execution_count": 81,
   "metadata": {},
   "outputs": [
    {
     "name": "stderr",
     "output_type": "stream",
     "text": [
      "/opt/anaconda3/lib/python3.7/site-packages/scipy/sparse/_index.py:127: SparseEfficiencyWarning: Changing the sparsity structure of a csr_matrix is expensive. lil_matrix is more efficient.\n",
      "  self._set_arrayXarray(i, j, x)\n"
     ]
    }
   ],
   "source": [
    "pdgCoocMat = pdgTFVects * pdgTFVects.T\n",
    "#set the diagonal to 0 since we don't care how similar texts are to themselves\n",
    "pdgCoocMat.setdiag(0)\n",
    "#Another way of relating the texts is with their cosine similarity\n",
    "#newsgroupsCosinMat1 = 1 - sklearn.metrics.pairwise.cosine_similarity(newsgroupsTFVects)\n",
    "#But generally word occurrence is more accurate"
   ]
  },
  {
   "cell_type": "code",
   "execution_count": 82,
   "metadata": {},
   "outputs": [],
   "source": [
    "selectIndices = []\n",
    "indexToCat = []\n",
    "for c in set(pdgDF['source']):\n",
    "    selectIndices += list(pdgDF[pdgDF['source'] == c].index)[:20]\n",
    "    indexToCat += [c] * 20"
   ]
  },
  {
   "cell_type": "code",
   "execution_count": 83,
   "metadata": {},
   "outputs": [],
   "source": [
    "subCoocMat = pdgCoocMat[selectIndices,:][:,selectIndices]"
   ]
  },
  {
   "cell_type": "code",
   "execution_count": 84,
   "metadata": {},
   "outputs": [
    {
     "name": "stderr",
     "output_type": "stream",
     "text": [
      "/opt/anaconda3/lib/python3.7/site-packages/scipy/cluster/hierarchy.py:830: ClusterWarning: scipy.cluster: The symmetric non-negative hollow observation matrix looks suspiciously like an uncondensed distance matrix\n",
      "  return linkage(y, method='ward', metric='euclidean')\n"
     ]
    },
    {
     "data": {
      "text/plain": [
       "array([[20.        , 60.        ,  0.        ,  2.        ],\n",
       "       [66.        , 74.        ,  0.        ,  3.        ],\n",
       "       [24.        , 75.        ,  0.30057725,  4.        ],\n",
       "       [53.        , 54.        ,  0.33960466,  2.        ],\n",
       "       [42.        , 45.        ,  0.36461278,  2.        ],\n",
       "       [34.        , 38.        ,  0.39543994,  2.        ],\n",
       "       [25.        , 76.        ,  0.40705726,  5.        ],\n",
       "       [46.        , 52.        ,  0.4089243 ,  2.        ],\n",
       "       [ 7.        , 59.        ,  0.41478999,  2.        ],\n",
       "       [32.        , 33.        ,  0.41546595,  2.        ]])"
      ]
     },
     "execution_count": 84,
     "metadata": {},
     "output_type": "execute_result"
    }
   ],
   "source": [
    "linkage_matrix = scipy.cluster.hierarchy.ward(subCoocMat.toarray())\n",
    "linkage_matrix[:10]"
   ]
  },
  {
   "cell_type": "code",
   "execution_count": 85,
   "metadata": {},
   "outputs": [
    {
     "data": {
      "image/png": "[encoded data removed]",
      "text/plain": [
       "<Figure size 432x288 with 1 Axes>"
      ]
     },
     "metadata": {
      "needs_background": "light"
     },
     "output_type": "display_data"
    }
   ],
   "source": [
    "#By distance\n",
    "dendrogramDat = scipy.cluster.hierarchy.dendrogram(linkage_matrix, p=4, truncate_mode='level', get_leaves=True)"
   ]
  },
  {
   "cell_type": "code",
   "execution_count": 86,
   "metadata": {},
   "outputs": [],
   "source": [
    "#Look at the tree, I think this makes a lot of sense, sources are divided into two big clustrs \n",
    "\n",
    "#The first one should be all the information about pedagogy from the actual wikipedia page for \n",
    "#pedagogy, the other big cluster will be all the pedagogy information from other wikipedia pega\n",
    "#related to pedagogy (or learning in general)."
   ]
  },
  {
   "cell_type": "code",
   "execution_count": 87,
   "metadata": {},
   "outputs": [
    {
     "name": "stdout",
     "output_type": "stream",
     "text": [
      "For our complete clusters:\n",
      "Homogeneity: 0.305\n",
      "Completeness: 0.296\n",
      "V-measure: 0.300\n",
      "Adjusted Rand Score: 0.249\n"
     ]
    }
   ],
   "source": [
    "hierarchicalClusters = scipy.cluster.hierarchy.fcluster(linkage_matrix, 4, 'maxclust')\n",
    "linkage_matrix_full = scipy.cluster.hierarchy.ward(pdgCoocMat.toarray())\n",
    "hierarchicalClusters_full = scipy.cluster.hierarchy.fcluster(linkage_matrix_full, 4, 'maxclust')\n",
    "print(\"For our complete clusters:\")\n",
    "print(\"Homogeneity: {:0.3f}\".format(sklearn.metrics.homogeneity_score(pdgDF['source'], hierarchicalClusters_full)))\n",
    "print(\"Completeness: {:0.3f}\".format(sklearn.metrics.completeness_score(pdgDF['source'], hierarchicalClusters_full)))\n",
    "print(\"V-measure: {:0.3f}\".format(sklearn.metrics.v_measure_score(pdgDF['source'], hierarchicalClusters_full)))\n",
    "print(\"Adjusted Rand Score: {:0.3f}\".format(sklearn.metrics.adjusted_rand_score(pdgDF['source'], hierarchicalClusters_full)))"
   ]
  },
  {
   "cell_type": "code",
   "execution_count": 88,
   "metadata": {},
   "outputs": [],
   "source": [
    "#This is worse than k-means. "
   ]
  },
  {
   "cell_type": "code",
   "execution_count": 131,
   "metadata": {},
   "outputs": [],
   "source": [
    "#Create dic for id-mapping. \n",
    "def dropMissing(wordLst, vocab):\n",
    "    return [w for w in wordLst if w in vocab]\n",
    "\n",
    "pdgDF['reduced_tokens'] = pdgDF['normalized_tokens'].apply(lambda x: dropMissing(x, pdgTFVectorizer.vocabulary_.keys()))"
   ]
  },
  {
   "cell_type": "code",
   "execution_count": 132,
   "metadata": {},
   "outputs": [],
   "source": [
    "dictionary = gensim.corpora.Dictionary(pdgDF['reduced_tokens'])"
   ]
  },
  {
   "cell_type": "code",
   "execution_count": 133,
   "metadata": {},
   "outputs": [],
   "source": [
    "corpus = [dictionary.doc2bow(text) for text in pdgDF['reduced_tokens']]"
   ]
  },
  {
   "cell_type": "code",
   "execution_count": 135,
   "metadata": {},
   "outputs": [],
   "source": [
    "gensim.corpora.MmCorpus.serialize('pdg.mm', corpus)\n",
    "senmm = gensim.corpora.MmCorpus('pdg.mm')"
   ]
  },
  {
   "cell_type": "code",
   "execution_count": 136,
   "metadata": {},
   "outputs": [],
   "source": [
    "senlda = gensim.models.ldamodel.LdaModel(corpus=senmm, id2word=dictionary, num_topics=10, alpha='auto', eta='auto')"
   ]
  },
  {
   "cell_type": "code",
   "execution_count": 143,
   "metadata": {},
   "outputs": [
    {
     "name": "stdout",
     "output_type": "stream",
     "text": [
      "The topics of the text: 0\n",
      "are: [(0, 0.09918795), (1, 0.1115817), (2, 0.08505276), (3, 0.10560063), (4, 0.09124954), (5, 0.11083845), (6, 0.1124324), (7, 0.09175797), (8, 0.094222136), (9, 0.0980765)]\n"
     ]
    }
   ],
   "source": [
    "sen1Bow = dictionary.doc2bow(pdgDF['reduced_tokens'][0])\n",
    "sen1lda = senlda[sen1Bow]\n",
    "print(\"The topics of the text: {}\".format(pdgDF['paragraph-number'][0]))\n",
    "print(\"are: {}\".format(sen1lda))"
   ]
  },
  {
   "cell_type": "code",
   "execution_count": 144,
   "metadata": {},
   "outputs": [],
   "source": [
    "ldaDF = pandas.DataFrame({\n",
    "        'name' : pdgDF['paragraph-number'],\n",
    "        'topics' : [senlda[dictionary.doc2bow(l)] for l in pdgDF['reduced_tokens']]\n",
    "    })"
   ]
  },
  {
   "cell_type": "code",
   "execution_count": 145,
   "metadata": {},
   "outputs": [
    {
     "data": {
      "text/html": [
       "<div>\n",
       "<style scoped>\n",
       "    .dataframe tbody tr th:only-of-type {\n",
       "        vertical-align: middle;\n",
       "    }\n",
       "\n",
       "    .dataframe tbody tr th {\n",
       "        vertical-align: top;\n",
       "    }\n",
       "\n",
       "    .dataframe thead th {\n",
       "        text-align: right;\n",
       "    }\n",
       "</style>\n",
       "<table border=\"1\" class=\"dataframe\">\n",
       "  <thead>\n",
       "    <tr style=\"text-align: right;\">\n",
       "      <th></th>\n",
       "      <th>name</th>\n",
       "      <th>topics</th>\n",
       "      <th>topic_0</th>\n",
       "      <th>topic_1</th>\n",
       "      <th>topic_2</th>\n",
       "      <th>topic_3</th>\n",
       "      <th>topic_4</th>\n",
       "      <th>topic_5</th>\n",
       "      <th>topic_6</th>\n",
       "      <th>topic_7</th>\n",
       "      <th>topic_8</th>\n",
       "      <th>topic_9</th>\n",
       "    </tr>\n",
       "  </thead>\n",
       "  <tbody>\n",
       "    <tr>\n",
       "      <td>1</td>\n",
       "      <td>1</td>\n",
       "      <td>[(2, 0.5772633), (6, 0.40306237)]</td>\n",
       "      <td>0.0</td>\n",
       "      <td>0.000000</td>\n",
       "      <td>0.577263</td>\n",
       "      <td>0.0</td>\n",
       "      <td>0.0</td>\n",
       "      <td>0.0</td>\n",
       "      <td>0.403062</td>\n",
       "      <td>0.0</td>\n",
       "      <td>0.0</td>\n",
       "      <td>0.0</td>\n",
       "    </tr>\n",
       "    <tr>\n",
       "      <td>101</td>\n",
       "      <td>53</td>\n",
       "      <td>[(1, 0.9714741)]</td>\n",
       "      <td>0.0</td>\n",
       "      <td>0.971474</td>\n",
       "      <td>0.000000</td>\n",
       "      <td>0.0</td>\n",
       "      <td>0.0</td>\n",
       "      <td>0.0</td>\n",
       "      <td>0.000000</td>\n",
       "      <td>0.0</td>\n",
       "      <td>0.0</td>\n",
       "      <td>0.0</td>\n",
       "    </tr>\n",
       "  </tbody>\n",
       "</table>\n",
       "</div>"
      ],
      "text/plain": [
       "     name                             topics  topic_0   topic_1   topic_2  \\\n",
       "1       1  [(2, 0.5772633), (6, 0.40306237)]      0.0  0.000000  0.577263   \n",
       "101    53                   [(1, 0.9714741)]      0.0  0.971474  0.000000   \n",
       "\n",
       "     topic_3  topic_4  topic_5   topic_6  topic_7  topic_8  topic_9  \n",
       "1        0.0      0.0      0.0  0.403062      0.0      0.0      0.0  \n",
       "101      0.0      0.0      0.0  0.000000      0.0      0.0      0.0  "
      ]
     },
     "execution_count": 145,
     "metadata": {},
     "output_type": "execute_result"
    }
   ],
   "source": [
    "#Dict to temporally hold the probabilities\n",
    "topicsProbDict = {i : [0] * len(ldaDF) for i in range(senlda.num_topics)}\n",
    "\n",
    "#Load them into the dict\n",
    "for index, topicTuples in enumerate(ldaDF['topics']):\n",
    "    for topicNum, prob in topicTuples:\n",
    "        topicsProbDict[topicNum][index] = prob\n",
    "\n",
    "#Update the DataFrame\n",
    "for topicNum in range(senlda.num_topics):\n",
    "    ldaDF['topic_{}'.format(topicNum)] = topicsProbDict[topicNum]\n",
    "\n",
    "ldaDF[1::100]"
   ]
  },
  {
   "cell_type": "code",
   "execution_count": 146,
   "metadata": {},
   "outputs": [
    {
     "data": {
      "text/html": [
       "<div>\n",
       "<style scoped>\n",
       "    .dataframe tbody tr th:only-of-type {\n",
       "        vertical-align: middle;\n",
       "    }\n",
       "\n",
       "    .dataframe tbody tr th {\n",
       "        vertical-align: top;\n",
       "    }\n",
       "\n",
       "    .dataframe thead th {\n",
       "        text-align: right;\n",
       "    }\n",
       "</style>\n",
       "<table border=\"1\" class=\"dataframe\">\n",
       "  <thead>\n",
       "    <tr style=\"text-align: right;\">\n",
       "      <th></th>\n",
       "      <th>topic_0</th>\n",
       "      <th>topic_1</th>\n",
       "      <th>topic_2</th>\n",
       "      <th>topic_3</th>\n",
       "      <th>topic_4</th>\n",
       "      <th>topic_5</th>\n",
       "      <th>topic_6</th>\n",
       "      <th>topic_7</th>\n",
       "      <th>topic_8</th>\n",
       "      <th>topic_9</th>\n",
       "    </tr>\n",
       "  </thead>\n",
       "  <tbody>\n",
       "    <tr>\n",
       "      <td>0</td>\n",
       "      <td>0.099188</td>\n",
       "      <td>0.111582</td>\n",
       "      <td>0.085053</td>\n",
       "      <td>0.105601</td>\n",
       "      <td>0.091250</td>\n",
       "      <td>0.110838</td>\n",
       "      <td>0.112432</td>\n",
       "      <td>0.091758</td>\n",
       "      <td>0.094222</td>\n",
       "      <td>0.098076</td>\n",
       "    </tr>\n",
       "    <tr>\n",
       "      <td>1</td>\n",
       "      <td>0.000000</td>\n",
       "      <td>0.000000</td>\n",
       "      <td>0.577263</td>\n",
       "      <td>0.000000</td>\n",
       "      <td>0.000000</td>\n",
       "      <td>0.000000</td>\n",
       "      <td>0.403062</td>\n",
       "      <td>0.000000</td>\n",
       "      <td>0.000000</td>\n",
       "      <td>0.000000</td>\n",
       "    </tr>\n",
       "    <tr>\n",
       "      <td>2</td>\n",
       "      <td>0.000000</td>\n",
       "      <td>0.000000</td>\n",
       "      <td>0.000000</td>\n",
       "      <td>0.000000</td>\n",
       "      <td>0.000000</td>\n",
       "      <td>0.737595</td>\n",
       "      <td>0.000000</td>\n",
       "      <td>0.244447</td>\n",
       "      <td>0.000000</td>\n",
       "      <td>0.000000</td>\n",
       "    </tr>\n",
       "    <tr>\n",
       "      <td>3</td>\n",
       "      <td>0.941767</td>\n",
       "      <td>0.000000</td>\n",
       "      <td>0.000000</td>\n",
       "      <td>0.000000</td>\n",
       "      <td>0.000000</td>\n",
       "      <td>0.000000</td>\n",
       "      <td>0.000000</td>\n",
       "      <td>0.000000</td>\n",
       "      <td>0.000000</td>\n",
       "      <td>0.000000</td>\n",
       "    </tr>\n",
       "    <tr>\n",
       "      <td>4</td>\n",
       "      <td>0.021482</td>\n",
       "      <td>0.024172</td>\n",
       "      <td>0.018420</td>\n",
       "      <td>0.022870</td>\n",
       "      <td>0.019762</td>\n",
       "      <td>0.807420</td>\n",
       "      <td>0.024353</td>\n",
       "      <td>0.019872</td>\n",
       "      <td>0.020406</td>\n",
       "      <td>0.021241</td>\n",
       "    </tr>\n",
       "  </tbody>\n",
       "</table>\n",
       "</div>"
      ],
      "text/plain": [
       "    topic_0   topic_1   topic_2   topic_3   topic_4   topic_5   topic_6  \\\n",
       "0  0.099188  0.111582  0.085053  0.105601  0.091250  0.110838  0.112432   \n",
       "1  0.000000  0.000000  0.577263  0.000000  0.000000  0.000000  0.403062   \n",
       "2  0.000000  0.000000  0.000000  0.000000  0.000000  0.737595  0.000000   \n",
       "3  0.941767  0.000000  0.000000  0.000000  0.000000  0.000000  0.000000   \n",
       "4  0.021482  0.024172  0.018420  0.022870  0.019762  0.807420  0.024353   \n",
       "\n",
       "    topic_7   topic_8   topic_9  \n",
       "0  0.091758  0.094222  0.098076  \n",
       "1  0.000000  0.000000  0.000000  \n",
       "2  0.244447  0.000000  0.000000  \n",
       "3  0.000000  0.000000  0.000000  \n",
       "4  0.019872  0.020406  0.021241  "
      ]
     },
     "execution_count": 146,
     "metadata": {},
     "output_type": "execute_result"
    }
   ],
   "source": [
    "ldaDFV = ldaDF[:5][['topic_%d' %x for x in range(10)]]\n",
    "ldaDFVisN = ldaDF[:5][['name']]\n",
    "ldaDFVis = ldaDFV.as_matrix(columns=None)\n",
    "ldaDFVisNames = ldaDFVisN.as_matrix(columns=None)\n",
    "ldaDFV"
   ]
  },
  {
   "cell_type": "code",
   "execution_count": 148,
   "metadata": {},
   "outputs": [
    {
     "data": {
      "image/png": "[encoded data removed]",
      "text/plain": [
       "<Figure size 432x288 with 1 Axes>"
      ]
     },
     "metadata": {
      "needs_background": "light"
     },
     "output_type": "display_data"
    }
   ],
   "source": [
    "N = 5\n",
    "ind = np.arange(N)\n",
    "K = senlda.num_topics  # N documents, K topics\n",
    "ind = np.arange(N)  # the x-axis locations for the novels\n",
    "width = 0.5  # the width of the bars\n",
    "plots = []\n",
    "height_cumulative = np.zeros(N)\n",
    "\n",
    "for k in range(K):\n",
    "    color = plt.cm.coolwarm(k/K, 1)\n",
    "    if k == 0:\n",
    "        p = plt.bar(ind, ldaDFVis[:, k], width, color=color)\n",
    "    else:\n",
    "        p = plt.bar(ind, ldaDFVis[:, k], width, bottom=height_cumulative, color=color)\n",
    "    height_cumulative += ldaDFVis[:, k]\n",
    "    plots.append(p)\n",
    "    \n",
    "\n",
    "plt.ylim((0, 1))  # proportions sum to 1, so the height of the stacked bars is 1\n",
    "plt.ylabel('Topics')\n",
    "\n",
    "plt.title('Topics in pedagogy-related wiki')\n",
    "plt.xticks(ind+width/2, ldaDFVisNames, rotation='vertical')\n",
    "\n",
    "plt.yticks(np.arange(0, 1, 10))\n",
    "topic_labels = ['Topic #{}'.format(k) for k in range(K)]\n",
    "plt.legend([p[0] for p in plots], topic_labels, loc='center left', frameon=True,  bbox_to_anchor = (1, .5))\n",
    "\n",
    "plt.show()"
   ]
  },
  {
   "cell_type": "code",
   "execution_count": 149,
   "metadata": {},
   "outputs": [
    {
     "data": {
      "image/png": "[encoded data removed]",
      "text/plain": [
       "<Figure size 432x288 with 2 Axes>"
      ]
     },
     "metadata": {
      "needs_background": "light"
     },
     "output_type": "display_data"
    }
   ],
   "source": [
    "plt.pcolor(ldaDFVis, norm=None, cmap='Blues')\n",
    "plt.yticks(np.arange(ldaDFVis.shape[0])+0.5, ldaDFVisNames);\n",
    "plt.xticks(np.arange(ldaDFVis.shape[1])+0.5, topic_labels);\n",
    "\n",
    "# flip the y-axis so the texts are in the order we anticipate (Austen first, then Brontë)\n",
    "plt.gca().invert_yaxis()\n",
    "\n",
    "# rotate the ticks on the x-axis\n",
    "plt.xticks(rotation=90)\n",
    "\n",
    "# add a legend\n",
    "plt.colorbar(cmap='Blues')\n",
    "plt.tight_layout()  # fixes margins\n",
    "plt.show()"
   ]
  },
  {
   "cell_type": "code",
   "execution_count": 150,
   "metadata": {},
   "outputs": [
    {
     "data": {
      "text/plain": [
       "[('student', 0.06610366),\n",
       " ('learn', 0.047673795),\n",
       " ('knowledge', 0.046646144),\n",
       " ('theory', 0.019651148),\n",
       " ('teacher', 0.017061494),\n",
       " ('play', 0.016858457),\n",
       " ('change', 0.014946664),\n",
       " ('behavior', 0.014878768),\n",
       " ('skill', 0.0145875),\n",
       " ('experience', 0.013616157)]"
      ]
     },
     "execution_count": 150,
     "metadata": {},
     "output_type": "execute_result"
    }
   ],
   "source": [
    "#top words for topic 5\n",
    "senlda.show_topic(5)\n",
    "\n",
    "#highly relevant to the idea of pedadogical learning: teacher figure is presented"
   ]
  },
  {
   "cell_type": "code",
   "execution_count": 151,
   "metadata": {},
   "outputs": [
    {
     "data": {
      "text/html": [
       "<div>\n",
       "<style scoped>\n",
       "    .dataframe tbody tr th:only-of-type {\n",
       "        vertical-align: middle;\n",
       "    }\n",
       "\n",
       "    .dataframe tbody tr th {\n",
       "        vertical-align: top;\n",
       "    }\n",
       "\n",
       "    .dataframe thead th {\n",
       "        text-align: right;\n",
       "    }\n",
       "</style>\n",
       "<table border=\"1\" class=\"dataframe\">\n",
       "  <thead>\n",
       "    <tr style=\"text-align: right;\">\n",
       "      <th></th>\n",
       "      <th>Topic_0</th>\n",
       "      <th>Topic_1</th>\n",
       "      <th>Topic_2</th>\n",
       "      <th>Topic_3</th>\n",
       "      <th>Topic_4</th>\n",
       "      <th>Topic_5</th>\n",
       "      <th>Topic_6</th>\n",
       "      <th>Topic_7</th>\n",
       "      <th>Topic_8</th>\n",
       "      <th>Topic_9</th>\n",
       "    </tr>\n",
       "  </thead>\n",
       "  <tbody>\n",
       "    <tr>\n",
       "      <td>0</td>\n",
       "      <td>learn</td>\n",
       "      <td>learn</td>\n",
       "      <td>social</td>\n",
       "      <td>learn</td>\n",
       "      <td>knowledge</td>\n",
       "      <td>student</td>\n",
       "      <td>learn</td>\n",
       "      <td>student</td>\n",
       "      <td>learn</td>\n",
       "      <td>learn</td>\n",
       "    </tr>\n",
       "    <tr>\n",
       "      <td>1</td>\n",
       "      <td>behavior</td>\n",
       "      <td>transfer</td>\n",
       "      <td>education</td>\n",
       "      <td>stimulus</td>\n",
       "      <td>learn</td>\n",
       "      <td>learn</td>\n",
       "      <td>theory</td>\n",
       "      <td>teacher</td>\n",
       "      <td>theory</td>\n",
       "      <td>knowledge</td>\n",
       "    </tr>\n",
       "    <tr>\n",
       "      <td>2</td>\n",
       "      <td>student</td>\n",
       "      <td>theory</td>\n",
       "      <td>memory</td>\n",
       "      <td>information</td>\n",
       "      <td>learner</td>\n",
       "      <td>knowledge</td>\n",
       "      <td>process</td>\n",
       "      <td>learn</td>\n",
       "      <td>behavior</td>\n",
       "      <td>theory</td>\n",
       "    </tr>\n",
       "    <tr>\n",
       "      <td>3</td>\n",
       "      <td>memory</td>\n",
       "      <td>stimulus</td>\n",
       "      <td>pedagogy</td>\n",
       "      <td>plant</td>\n",
       "      <td>education</td>\n",
       "      <td>theory</td>\n",
       "      <td>play</td>\n",
       "      <td>pedagogue</td>\n",
       "      <td>education</td>\n",
       "      <td>structure</td>\n",
       "    </tr>\n",
       "    <tr>\n",
       "      <td>4</td>\n",
       "      <td>education</td>\n",
       "      <td>behavior</td>\n",
       "      <td>learn</td>\n",
       "      <td>response</td>\n",
       "      <td>people</td>\n",
       "      <td>teacher</td>\n",
       "      <td>information</td>\n",
       "      <td>active</td>\n",
       "      <td>word</td>\n",
       "      <td>plato</td>\n",
       "    </tr>\n",
       "    <tr>\n",
       "      <td>5</td>\n",
       "      <td>new</td>\n",
       "      <td>knowledge</td>\n",
       "      <td>student</td>\n",
       "      <td>bell</td>\n",
       "      <td>game</td>\n",
       "      <td>play</td>\n",
       "      <td>study</td>\n",
       "      <td>learner</td>\n",
       "      <td>plant</td>\n",
       "      <td>education</td>\n",
       "    </tr>\n",
       "    <tr>\n",
       "      <td>6</td>\n",
       "      <td>play</td>\n",
       "      <td>different</td>\n",
       "      <td>theory</td>\n",
       "      <td>example</td>\n",
       "      <td>self</td>\n",
       "      <td>change</td>\n",
       "      <td>change</td>\n",
       "      <td>education</td>\n",
       "      <td>social</td>\n",
       "      <td>people</td>\n",
       "    </tr>\n",
       "    <tr>\n",
       "      <td>7</td>\n",
       "      <td>pedagogy</td>\n",
       "      <td>human</td>\n",
       "      <td>academic</td>\n",
       "      <td>new</td>\n",
       "      <td>view</td>\n",
       "      <td>behavior</td>\n",
       "      <td>include</td>\n",
       "      <td>school</td>\n",
       "      <td>example</td>\n",
       "      <td>information</td>\n",
       "    </tr>\n",
       "    <tr>\n",
       "      <td>8</td>\n",
       "      <td>teaching</td>\n",
       "      <td>example</td>\n",
       "      <td>influence</td>\n",
       "      <td>environment</td>\n",
       "      <td>language</td>\n",
       "      <td>skill</td>\n",
       "      <td>learner</td>\n",
       "      <td>knowledge</td>\n",
       "      <td>child</td>\n",
       "      <td>question</td>\n",
       "    </tr>\n",
       "    <tr>\n",
       "      <td>9</td>\n",
       "      <td>knowledge</td>\n",
       "      <td>animal</td>\n",
       "      <td>people</td>\n",
       "      <td>animal</td>\n",
       "      <td>transfer</td>\n",
       "      <td>experience</td>\n",
       "      <td>example</td>\n",
       "      <td>child</td>\n",
       "      <td>teacher</td>\n",
       "      <td>problem</td>\n",
       "    </tr>\n",
       "  </tbody>\n",
       "</table>\n",
       "</div>"
      ],
      "text/plain": [
       "     Topic_0    Topic_1    Topic_2      Topic_3    Topic_4     Topic_5  \\\n",
       "0      learn      learn     social        learn  knowledge     student   \n",
       "1   behavior   transfer  education     stimulus      learn       learn   \n",
       "2    student     theory     memory  information    learner   knowledge   \n",
       "3     memory   stimulus   pedagogy        plant  education      theory   \n",
       "4  education   behavior      learn     response     people     teacher   \n",
       "5        new  knowledge    student         bell       game        play   \n",
       "6       play  different     theory      example       self      change   \n",
       "7   pedagogy      human   academic          new       view    behavior   \n",
       "8   teaching    example  influence  environment   language       skill   \n",
       "9  knowledge     animal     people       animal   transfer  experience   \n",
       "\n",
       "       Topic_6    Topic_7    Topic_8      Topic_9  \n",
       "0        learn    student      learn        learn  \n",
       "1       theory    teacher     theory    knowledge  \n",
       "2      process      learn   behavior       theory  \n",
       "3         play  pedagogue  education    structure  \n",
       "4  information     active       word        plato  \n",
       "5        study    learner      plant    education  \n",
       "6       change  education     social       people  \n",
       "7      include     school    example  information  \n",
       "8      learner  knowledge      child     question  \n",
       "9      example      child    teacher      problem  "
      ]
     },
     "execution_count": 151,
     "metadata": {},
     "output_type": "execute_result"
    }
   ],
   "source": [
    "topicsDict = {}\n",
    "for topicNum in range(senlda.num_topics):\n",
    "    topicWords = [w for w, p in senlda.show_topic(topicNum)]\n",
    "    topicsDict['Topic_{}'.format(topicNum)] = topicWords\n",
    "\n",
    "wordRanksDF = pandas.DataFrame(topicsDict)\n",
    "wordRanksDF"
   ]
  },
  {
   "cell_type": "code",
   "execution_count": null,
   "metadata": {},
   "outputs": [],
   "source": [
    "#tops have overlapping top words: learn/student; for those topics that doesn't have learn \n",
    "#at the first ranked word, have it as the second or third word. "
   ]
  },
  {
   "cell_type": "code",
   "execution_count": 152,
   "metadata": {},
   "outputs": [
    {
     "data": {
      "text/plain": [
       "<Figure size 432x288 with 0 Axes>"
      ]
     },
     "metadata": {},
     "output_type": "display_data"
    },
    {
     "data": {
      "image/png": "[encoded data removed]",
      "text/plain": [
       "<Figure size 432x288 with 1 Axes>"
      ]
     },
     "metadata": {
      "needs_background": "light"
     },
     "output_type": "display_data"
    }
   ],
   "source": [
    "#let's look at topic 7 becuase it has learn as the thrid top word instead of the first, which\n",
    "#is a bit unusually and interesting\n",
    "topic1_df = pandas.DataFrame(senlda.show_topic(1, topn=50))\n",
    "plt.figure()\n",
    "topic1_df.plot.bar(legend = False)\n",
    "plt.title('Probability Distribution of Words, Topic 7')\n",
    "plt.show()"
   ]
  },
  {
   "cell_type": "code",
   "execution_count": 164,
   "metadata": {},
   "outputs": [],
   "source": [
    "#adjust using different 𝜂 values\n",
    "senlda1 = gensim.models.ldamodel.LdaModel(corpus=senmm, id2word=dictionary, num_topics=10, eta = 0.005)\n",
    "senlda2 = gensim.models.ldamodel.LdaModel(corpus=senmm, id2word=dictionary, num_topics=10, eta = 0.9)"
   ]
  },
  {
   "cell_type": "code",
   "execution_count": 165,
   "metadata": {},
   "outputs": [
    {
     "data": {
      "image/png": "[encoded data removed]",
      "text/plain": [
       "<Figure size 1296x504 with 2 Axes>"
      ]
     },
     "metadata": {
      "needs_background": "light"
     },
     "output_type": "display_data"
    }
   ],
   "source": [
    "topic11_df = pandas.DataFrame(senlda1.show_topic(1, topn=50))\n",
    "topic21_df = pandas.DataFrame(senlda2.show_topic(1, topn=50))\n",
    "\n",
    "fig, (ax1, ax2) = plt.subplots(1, 2)\n",
    "fig.set_size_inches(18, 7)\n",
    "topic11_df.plot.bar(legend = False, ax = ax1, title = '$\\eta$  = 0.0005')\n",
    "topic21_df.plot.bar(legend = False, ax = ax2, title = '$\\eta$  = 0.9')\n",
    "plt.show()"
   ]
  },
  {
   "cell_type": "code",
   "execution_count": 89,
   "metadata": {},
   "outputs": [],
   "source": [
    "import gensim#For word2vec, etc\n",
    "import requests \n",
    "import lucem_illud_2020\n",
    "\n",
    "import numpy as np #For arrays\n",
    "import pandas #Gives us DataFrames\n",
    "import matplotlib.pyplot as plt #For graphics\n",
    "import seaborn #Makes the graphics look nicer\n",
    "import sklearn.metrics.pairwise #For cosine similarity\n",
    "import sklearn.manifold #For T-SNE\n",
    "import sklearn.decomposition #For PCA\n",
    "\n",
    "#This 'magic' command makes the plots work better\n",
    "#in the notebook, don't use it outside of a notebook.\n",
    "#Also you can ignore the warning\n",
    "%matplotlib inline\n",
    "\n",
    "import os #For looking through files\n",
    "import os.path #For managing file paths"
   ]
  },
  {
   "cell_type": "code",
   "execution_count": 90,
   "metadata": {},
   "outputs": [],
   "source": [
    "pdgDF['tokenized_tokens'] = pdgDF['paragraph-text'].apply(lambda x: [lucem_illud_2020.word_tokenize(s) for s in lucem_illud_2020.sent_tokenize(x)])\n",
    "pdgDF['normalized_tokens'] = pdgDF['tokenized_tokens'].apply(lambda x: [lucem_illud_2020.normalizeTokens(s, lemma=False) for s in x])"
   ]
  },
  {
   "cell_type": "code",
   "execution_count": 91,
   "metadata": {},
   "outputs": [],
   "source": [
    "#W2V\n",
    "pdgW2V = gensim.models.word2vec.Word2Vec(pdgDF['normalized_tokens'].sum())"
   ]
  },
  {
   "cell_type": "code",
   "execution_count": 92,
   "metadata": {},
   "outputs": [
    {
     "data": {
      "text/plain": [
       "array([[-2.18423083e-03, -2.86192866e-03,  7.16903806e-03, ...,\n",
       "         5.57912793e-03,  9.48385708e-03, -2.70116376e-03],\n",
       "       [ 5.47361420e-03,  1.21390236e-04,  4.27422719e-03, ...,\n",
       "         4.35022265e-03,  2.60309922e-03,  8.70926015e-04],\n",
       "       [ 2.65868101e-03, -2.18035583e-03,  1.44528295e-03, ...,\n",
       "         5.54440357e-03, -1.93717203e-03, -3.55431205e-03],\n",
       "       ...,\n",
       "       [-3.55672615e-04, -5.67241805e-03, -2.05592834e-03, ...,\n",
       "        -1.21757993e-03,  4.78781387e-03,  4.71402658e-03],\n",
       "       [ 1.63202232e-03,  7.41880969e-04,  4.10086755e-03, ...,\n",
       "         4.41737892e-03,  9.30448005e-04,  1.29369844e-03],\n",
       "       [-3.24866059e-03, -4.20143406e-05,  8.61111796e-04, ...,\n",
       "         4.93300753e-03, -1.29051763e-03, -4.92555276e-03]], dtype=float32)"
      ]
     },
     "execution_count": 92,
     "metadata": {},
     "output_type": "execute_result"
    }
   ],
   "source": [
    "#Full\n",
    "pdgW2V.wv.syn0"
   ]
  },
  {
   "cell_type": "code",
   "execution_count": 93,
   "metadata": {},
   "outputs": [
    {
     "data": {
      "text/plain": [
       "'stimulus'"
      ]
     },
     "execution_count": 93,
     "metadata": {},
     "output_type": "execute_result"
    }
   ],
   "source": [
    "#Access back to words\n",
    "pdgW2V.wv.index2word[15]"
   ]
  },
  {
   "cell_type": "code",
   "execution_count": 94,
   "metadata": {},
   "outputs": [
    {
     "data": {
      "text/plain": [
       "[('learning', 0.4300907254219055),\n",
       " ('transfer', 0.37466293573379517),\n",
       " ('knowledge', 0.37403440475463867),\n",
       " ('understand', 0.3670208752155304),\n",
       " ('come', 0.36038702726364136),\n",
       " ('human', 0.3570101857185364),\n",
       " ('active', 0.34928134083747864),\n",
       " ('help', 0.34607943892478943),\n",
       " ('arm', 0.34351450204849243),\n",
       " ('researchers', 0.3425177037715912)]"
      ]
     },
     "execution_count": 94,
     "metadata": {},
     "output_type": "execute_result"
    }
   ],
   "source": [
    "#Words that are close to vectorized pedagogy: ability, knowlegde, evidence, learning and activities are the top 5\n",
    "pdgW2V.most_similar('pedagogy')"
   ]
  },
  {
   "cell_type": "code",
   "execution_count": 96,
   "metadata": {},
   "outputs": [],
   "source": [
    "pdgW2V.save(\"pdgWORD2Vec\")\n",
    "\n",
    "wordsSubMatrix = []\n",
    "for word in pdgW2V.wv.index2word[:50]:\n",
    "    wordsSubMatrix.append(pdgW2V[word])\n",
    "wordsSubMatrix = np.array(wordsSubMatrix)\n",
    "wordsSubMatrix\n",
    "\n",
    "#PCA of the top 50 words\n",
    "pcaWords = sklearn.decomposition.PCA(n_components = 50).fit(wordsSubMatrix)\n",
    "reducedPCA_data = pcaWords.transform(wordsSubMatrix)\n",
    "#T-SNE is theoretically better, but you should experiment\n",
    "tsneWords = sklearn.manifold.TSNE(n_components = 2).fit_transform(reducedPCA_data)"
   ]
  },
  {
   "cell_type": "code",
   "execution_count": 97,
   "metadata": {},
   "outputs": [
    {
     "data": {
      "image/png": "[encoded data removed]",
      "text/plain": [
       "<Figure size 720x432 with 1 Axes>"
      ]
     },
     "metadata": {},
     "output_type": "display_data"
    }
   ],
   "source": [
    "#Plot the graph\n",
    "fig = plt.figure(figsize = (10,6))\n",
    "ax = fig.add_subplot(111)\n",
    "ax.set_frame_on(False)\n",
    "plt.scatter(tsneWords[:, 0], tsneWords[:, 1], alpha = 0)#Making the points invisible \n",
    "for i, word in enumerate(pdgW2V.wv.index2word[:50]):\n",
    "    ax.annotate(word, (tsneWords[:, 0][i],tsneWords[:, 1][i]), size =  20 * (50 - i) / 50)\n",
    "plt.xticks(())\n",
    "plt.yticks(())\n",
    "plt.show()"
   ]
  },
  {
   "cell_type": "code",
   "execution_count": null,
   "metadata": {},
   "outputs": [],
   "source": []
  }
 ],
 "metadata": {
  "anaconda-cloud": {},
  "kernelspec": {
   "display_name": "Python 3",
   "language": "python",
   "name": "python3"
  },
  "language_info": {
   "codemirror_mode": {
    "name": "ipython",
    "version": 3
   },
   "file_extension": ".py",
   "mimetype": "text/x-python",
   "name": "python",
   "nbconvert_exporter": "python",
   "pygments_lexer": "ipython3",
   "version": "3.7.4"
  }
 },
 "nbformat": 4,
 "nbformat_minor": 1
}
